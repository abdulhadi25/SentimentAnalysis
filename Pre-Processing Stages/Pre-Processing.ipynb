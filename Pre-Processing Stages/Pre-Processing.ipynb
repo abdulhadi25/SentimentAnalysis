{
 "cells": [
  {
   "cell_type": "markdown",
   "id": "6ad016f9",
   "metadata": {},
   "source": [
    "## Remove Duplicate Rows"
   ]
  },
  {
   "cell_type": "code",
   "execution_count": 1,
   "id": "e1870b32",
   "metadata": {},
   "outputs": [],
   "source": [
    "# Importing the csv file for after the data collection phase\n",
    "\n",
    "import pandas as pd\n",
    "tweets_df = pd.read_csv('Dataset2.csv', lineterminator='\\n')"
   ]
  },
  {
   "cell_type": "code",
   "execution_count": 2,
   "id": "eeefe47d",
   "metadata": {},
   "outputs": [
    {
     "data": {
      "text/html": [
       "<div>\n",
       "<style scoped>\n",
       "    .dataframe tbody tr th:only-of-type {\n",
       "        vertical-align: middle;\n",
       "    }\n",
       "\n",
       "    .dataframe tbody tr th {\n",
       "        vertical-align: top;\n",
       "    }\n",
       "\n",
       "    .dataframe thead th {\n",
       "        text-align: right;\n",
       "    }\n",
       "</style>\n",
       "<table border=\"1\" class=\"dataframe\">\n",
       "  <thead>\n",
       "    <tr style=\"text-align: right;\">\n",
       "      <th></th>\n",
       "      <th>0</th>\n",
       "      <th>1</th>\n",
       "    </tr>\n",
       "  </thead>\n",
       "  <tbody>\n",
       "    <tr>\n",
       "      <th>0</th>\n",
       "      <td>1488300975022649351</td>\n",
       "      <td>@allballsofyarn Thank Pfizer for Jacinta eh?</td>\n",
       "    </tr>\n",
       "    <tr>\n",
       "      <th>1</th>\n",
       "      <td>1488295746369695751</td>\n",
       "      <td>UK Health Secretary Announces U-TURN on MANDAT...</td>\n",
       "    </tr>\n",
       "    <tr>\n",
       "      <th>2</th>\n",
       "      <td>1488289753548083207</td>\n",
       "      <td>@georgiebingham The word hypocrite the only on...</td>\n",
       "    </tr>\n",
       "    <tr>\n",
       "      <th>3</th>\n",
       "      <td>1488287987683278850</td>\n",
       "      <td>@Seyirhodes There's about 4 chapters on aids v...</td>\n",
       "    </tr>\n",
       "    <tr>\n",
       "      <th>4</th>\n",
       "      <td>1488285997674770436</td>\n",
       "      <td>@benking01 @NHS Hope you’re feeling ok Ben &amp;am...</td>\n",
       "    </tr>\n",
       "    <tr>\n",
       "      <th>...</th>\n",
       "      <td>...</td>\n",
       "      <td>...</td>\n",
       "    </tr>\n",
       "    <tr>\n",
       "      <th>19564</th>\n",
       "      <td>1465846782156546053</td>\n",
       "      <td>This article is far too long but way down it c...</td>\n",
       "    </tr>\n",
       "    <tr>\n",
       "      <th>19565</th>\n",
       "      <td>1465846406212730883</td>\n",
       "      <td>What a fucking joke this. The vaccine was mean...</td>\n",
       "    </tr>\n",
       "    <tr>\n",
       "      <th>19566</th>\n",
       "      <td>1465843105190535174</td>\n",
       "      <td>Faster vaccine rollout = longer #NHS waiting l...</td>\n",
       "    </tr>\n",
       "    <tr>\n",
       "      <th>19567</th>\n",
       "      <td>1465842266036224004</td>\n",
       "      <td>Why would a GP want to waste their time checki...</td>\n",
       "    </tr>\n",
       "    <tr>\n",
       "      <th>19568</th>\n",
       "      <td>1465840693121896448</td>\n",
       "      <td>Michelle Barlow: \"Her multiple organ failure c...</td>\n",
       "    </tr>\n",
       "  </tbody>\n",
       "</table>\n",
       "<p>19569 rows × 2 columns</p>\n",
       "</div>"
      ],
      "text/plain": [
       "                         0                                                  1\n",
       "0      1488300975022649351       @allballsofyarn Thank Pfizer for Jacinta eh?\n",
       "1      1488295746369695751  UK Health Secretary Announces U-TURN on MANDAT...\n",
       "2      1488289753548083207  @georgiebingham The word hypocrite the only on...\n",
       "3      1488287987683278850  @Seyirhodes There's about 4 chapters on aids v...\n",
       "4      1488285997674770436  @benking01 @NHS Hope you’re feeling ok Ben &am...\n",
       "...                    ...                                                ...\n",
       "19564  1465846782156546053  This article is far too long but way down it c...\n",
       "19565  1465846406212730883  What a fucking joke this. The vaccine was mean...\n",
       "19566  1465843105190535174  Faster vaccine rollout = longer #NHS waiting l...\n",
       "19567  1465842266036224004  Why would a GP want to waste their time checki...\n",
       "19568  1465840693121896448  Michelle Barlow: \"Her multiple organ failure c...\n",
       "\n",
       "[19569 rows x 2 columns]"
      ]
     },
     "execution_count": 2,
     "metadata": {},
     "output_type": "execute_result"
    }
   ],
   "source": [
    "# Original Dataframe formed from the tweets csv file: (100,000 rows originally)\n",
    "\n",
    "tweets_df"
   ]
  },
  {
   "cell_type": "code",
   "execution_count": 3,
   "id": "e41a49f0",
   "metadata": {},
   "outputs": [
    {
     "data": {
      "text/html": [
       "<div>\n",
       "<style scoped>\n",
       "    .dataframe tbody tr th:only-of-type {\n",
       "        vertical-align: middle;\n",
       "    }\n",
       "\n",
       "    .dataframe tbody tr th {\n",
       "        vertical-align: top;\n",
       "    }\n",
       "\n",
       "    .dataframe thead th {\n",
       "        text-align: right;\n",
       "    }\n",
       "</style>\n",
       "<table border=\"1\" class=\"dataframe\">\n",
       "  <thead>\n",
       "    <tr style=\"text-align: right;\">\n",
       "      <th></th>\n",
       "      <th>0</th>\n",
       "      <th>1</th>\n",
       "    </tr>\n",
       "  </thead>\n",
       "  <tbody>\n",
       "    <tr>\n",
       "      <th>0</th>\n",
       "      <td>1488300975022649351</td>\n",
       "      <td>@allballsofyarn Thank Pfizer for Jacinta eh?</td>\n",
       "    </tr>\n",
       "    <tr>\n",
       "      <th>1</th>\n",
       "      <td>1488295746369695751</td>\n",
       "      <td>UK Health Secretary Announces U-TURN on MANDAT...</td>\n",
       "    </tr>\n",
       "    <tr>\n",
       "      <th>2</th>\n",
       "      <td>1488289753548083207</td>\n",
       "      <td>@georgiebingham The word hypocrite the only on...</td>\n",
       "    </tr>\n",
       "    <tr>\n",
       "      <th>3</th>\n",
       "      <td>1488287987683278850</td>\n",
       "      <td>@Seyirhodes There's about 4 chapters on aids v...</td>\n",
       "    </tr>\n",
       "    <tr>\n",
       "      <th>4</th>\n",
       "      <td>1488285997674770436</td>\n",
       "      <td>@benking01 @NHS Hope you’re feeling ok Ben &amp;am...</td>\n",
       "    </tr>\n",
       "    <tr>\n",
       "      <th>...</th>\n",
       "      <td>...</td>\n",
       "      <td>...</td>\n",
       "    </tr>\n",
       "    <tr>\n",
       "      <th>19564</th>\n",
       "      <td>1465846782156546053</td>\n",
       "      <td>This article is far too long but way down it c...</td>\n",
       "    </tr>\n",
       "    <tr>\n",
       "      <th>19565</th>\n",
       "      <td>1465846406212730883</td>\n",
       "      <td>What a fucking joke this. The vaccine was mean...</td>\n",
       "    </tr>\n",
       "    <tr>\n",
       "      <th>19566</th>\n",
       "      <td>1465843105190535174</td>\n",
       "      <td>Faster vaccine rollout = longer #NHS waiting l...</td>\n",
       "    </tr>\n",
       "    <tr>\n",
       "      <th>19567</th>\n",
       "      <td>1465842266036224004</td>\n",
       "      <td>Why would a GP want to waste their time checki...</td>\n",
       "    </tr>\n",
       "    <tr>\n",
       "      <th>19568</th>\n",
       "      <td>1465840693121896448</td>\n",
       "      <td>Michelle Barlow: \"Her multiple organ failure c...</td>\n",
       "    </tr>\n",
       "  </tbody>\n",
       "</table>\n",
       "<p>19569 rows × 2 columns</p>\n",
       "</div>"
      ],
      "text/plain": [
       "                         0                                                  1\n",
       "0      1488300975022649351       @allballsofyarn Thank Pfizer for Jacinta eh?\n",
       "1      1488295746369695751  UK Health Secretary Announces U-TURN on MANDAT...\n",
       "2      1488289753548083207  @georgiebingham The word hypocrite the only on...\n",
       "3      1488287987683278850  @Seyirhodes There's about 4 chapters on aids v...\n",
       "4      1488285997674770436  @benking01 @NHS Hope you’re feeling ok Ben &am...\n",
       "...                    ...                                                ...\n",
       "19564  1465846782156546053  This article is far too long but way down it c...\n",
       "19565  1465846406212730883  What a fucking joke this. The vaccine was mean...\n",
       "19566  1465843105190535174  Faster vaccine rollout = longer #NHS waiting l...\n",
       "19567  1465842266036224004  Why would a GP want to waste their time checki...\n",
       "19568  1465840693121896448  Michelle Barlow: \"Her multiple organ failure c...\n",
       "\n",
       "[19569 rows x 2 columns]"
      ]
     },
     "execution_count": 3,
     "metadata": {},
     "output_type": "execute_result"
    }
   ],
   "source": [
    "# Remove duplicate rows: (54931 Rows left now)\n",
    "\n",
    "tweets_df = tweets_df.drop_duplicates(subset=None, keep='first', inplace=False, ignore_index=False)\n",
    "tweets_df"
   ]
  },
  {
   "cell_type": "markdown",
   "id": "cf3050a0",
   "metadata": {},
   "source": [
    "## Rename Columns"
   ]
  },
  {
   "cell_type": "code",
   "execution_count": 4,
   "id": "5ad7edfe",
   "metadata": {},
   "outputs": [
    {
     "data": {
      "text/html": [
       "<div>\n",
       "<style scoped>\n",
       "    .dataframe tbody tr th:only-of-type {\n",
       "        vertical-align: middle;\n",
       "    }\n",
       "\n",
       "    .dataframe tbody tr th {\n",
       "        vertical-align: top;\n",
       "    }\n",
       "\n",
       "    .dataframe thead th {\n",
       "        text-align: right;\n",
       "    }\n",
       "</style>\n",
       "<table border=\"1\" class=\"dataframe\">\n",
       "  <thead>\n",
       "    <tr style=\"text-align: right;\">\n",
       "      <th></th>\n",
       "      <th>UserID</th>\n",
       "      <th>Original Tweet</th>\n",
       "    </tr>\n",
       "  </thead>\n",
       "  <tbody>\n",
       "    <tr>\n",
       "      <th>0</th>\n",
       "      <td>1488300975022649351</td>\n",
       "      <td>@allballsofyarn Thank Pfizer for Jacinta eh?</td>\n",
       "    </tr>\n",
       "    <tr>\n",
       "      <th>1</th>\n",
       "      <td>1488295746369695751</td>\n",
       "      <td>UK Health Secretary Announces U-TURN on MANDAT...</td>\n",
       "    </tr>\n",
       "    <tr>\n",
       "      <th>2</th>\n",
       "      <td>1488289753548083207</td>\n",
       "      <td>@georgiebingham The word hypocrite the only on...</td>\n",
       "    </tr>\n",
       "    <tr>\n",
       "      <th>3</th>\n",
       "      <td>1488287987683278850</td>\n",
       "      <td>@Seyirhodes There's about 4 chapters on aids v...</td>\n",
       "    </tr>\n",
       "    <tr>\n",
       "      <th>4</th>\n",
       "      <td>1488285997674770436</td>\n",
       "      <td>@benking01 @NHS Hope you’re feeling ok Ben &amp;am...</td>\n",
       "    </tr>\n",
       "    <tr>\n",
       "      <th>...</th>\n",
       "      <td>...</td>\n",
       "      <td>...</td>\n",
       "    </tr>\n",
       "    <tr>\n",
       "      <th>19564</th>\n",
       "      <td>1465846782156546053</td>\n",
       "      <td>This article is far too long but way down it c...</td>\n",
       "    </tr>\n",
       "    <tr>\n",
       "      <th>19565</th>\n",
       "      <td>1465846406212730883</td>\n",
       "      <td>What a fucking joke this. The vaccine was mean...</td>\n",
       "    </tr>\n",
       "    <tr>\n",
       "      <th>19566</th>\n",
       "      <td>1465843105190535174</td>\n",
       "      <td>Faster vaccine rollout = longer #NHS waiting l...</td>\n",
       "    </tr>\n",
       "    <tr>\n",
       "      <th>19567</th>\n",
       "      <td>1465842266036224004</td>\n",
       "      <td>Why would a GP want to waste their time checki...</td>\n",
       "    </tr>\n",
       "    <tr>\n",
       "      <th>19568</th>\n",
       "      <td>1465840693121896448</td>\n",
       "      <td>Michelle Barlow: \"Her multiple organ failure c...</td>\n",
       "    </tr>\n",
       "  </tbody>\n",
       "</table>\n",
       "<p>19569 rows × 2 columns</p>\n",
       "</div>"
      ],
      "text/plain": [
       "                    UserID                                     Original Tweet\n",
       "0      1488300975022649351       @allballsofyarn Thank Pfizer for Jacinta eh?\n",
       "1      1488295746369695751  UK Health Secretary Announces U-TURN on MANDAT...\n",
       "2      1488289753548083207  @georgiebingham The word hypocrite the only on...\n",
       "3      1488287987683278850  @Seyirhodes There's about 4 chapters on aids v...\n",
       "4      1488285997674770436  @benking01 @NHS Hope you’re feeling ok Ben &am...\n",
       "...                    ...                                                ...\n",
       "19564  1465846782156546053  This article is far too long but way down it c...\n",
       "19565  1465846406212730883  What a fucking joke this. The vaccine was mean...\n",
       "19566  1465843105190535174  Faster vaccine rollout = longer #NHS waiting l...\n",
       "19567  1465842266036224004  Why would a GP want to waste their time checki...\n",
       "19568  1465840693121896448  Michelle Barlow: \"Her multiple organ failure c...\n",
       "\n",
       "[19569 rows x 2 columns]"
      ]
     },
     "execution_count": 4,
     "metadata": {},
     "output_type": "execute_result"
    }
   ],
   "source": [
    "# Renaming Columns to useful names:\n",
    "\n",
    "tweets_df = tweets_df.rename({'0': 'UserID', '1': 'Original Tweet'}, axis=1)\n",
    "tweets_df"
   ]
  },
  {
   "cell_type": "markdown",
   "id": "158ea34c",
   "metadata": {},
   "source": [
    "## Remove URLs:"
   ]
  },
  {
   "cell_type": "code",
   "execution_count": 5,
   "id": "c1f01741",
   "metadata": {},
   "outputs": [],
   "source": [
    "# Function to replace URL of a text with an empty space:\n",
    "\n",
    "def clean_data_from_urls(dataframe):\n",
    "    dataframe['Without URL'] = dataframe['Original Tweet'].str.replace('http[s]?://(?:[a-zA-Z]|[0-9]|[$-_@.&+]|[!*\\(\\),]|(?:%[0-9a-fA-F][0-9a-fA-F]))+', 'URL')"
   ]
  },
  {
   "cell_type": "code",
   "execution_count": 6,
   "id": "f975f149",
   "metadata": {},
   "outputs": [
    {
     "name": "stderr",
     "output_type": "stream",
     "text": [
      "<ipython-input-5-abe0c9e2a79f>:4: FutureWarning: The default value of regex will change from True to False in a future version.\n",
      "  dataframe['Without URL'] = dataframe['Original Tweet'].str.replace('http[s]?://(?:[a-zA-Z]|[0-9]|[$-_@.&+]|[!*\\(\\),]|(?:%[0-9a-fA-F][0-9a-fA-F]))+', 'URL')\n"
     ]
    },
    {
     "data": {
      "text/plain": [
       "0         @allballsofyarn Thank Pfizer for Jacinta eh?\n",
       "1    UK Health Secretary Announces U-TURN on MANDAT...\n",
       "2    @georgiebingham The word hypocrite the only on...\n",
       "3    @Seyirhodes There's about 4 chapters on aids v...\n",
       "4    @benking01 @NHS Hope you’re feeling ok Ben &am...\n",
       "5    @CarrDutton @drstevejames Why are all double-b...\n",
       "6    @bbclaurak The press are so biased towards The...\n",
       "7    @AndrewJPelling We have universal availability...\n",
       "8    @sebastianbach Seb. \\nVaccines have some effec...\n",
       "9    @Tobias_Ellwood Interesting processing. I don'...\n",
       "Name: Without URL, dtype: object"
      ]
     },
     "execution_count": 6,
     "metadata": {},
     "output_type": "execute_result"
    }
   ],
   "source": [
    "# Apply above url remover function and print the new dataframe with the new column\n",
    "\n",
    "clean_data_from_urls(tweets_df)\n",
    "tweets_df['Without URL'].head(10)"
   ]
  },
  {
   "cell_type": "markdown",
   "id": "b8026151",
   "metadata": {},
   "source": [
    "## Replace Handlers/Usernames:"
   ]
  },
  {
   "cell_type": "code",
   "execution_count": 7,
   "id": "cff5536b",
   "metadata": {},
   "outputs": [],
   "source": [
    "# Function to Replace Handlers/Usernames in the Dataframe:\n",
    "\n",
    "def replace_handlers(dataframe):\n",
    "    dataframe['Removed Handlers'] = dataframe['Without URL'].str.replace('(?<=^|(?<=[^a-zA-Z0-9-_\\.]))@([A-Za-z]+[A-Za-z0-9]+)', 'USER')"
   ]
  },
  {
   "cell_type": "code",
   "execution_count": 8,
   "id": "2249c88c",
   "metadata": {},
   "outputs": [
    {
     "name": "stderr",
     "output_type": "stream",
     "text": [
      "<ipython-input-7-bd38cd2264cc>:4: FutureWarning: The default value of regex will change from True to False in a future version.\n",
      "  dataframe['Removed Handlers'] = dataframe['Without URL'].str.replace('(?<=^|(?<=[^a-zA-Z0-9-_\\.]))@([A-Za-z]+[A-Za-z0-9]+)', 'USER')\n"
     ]
    },
    {
     "data": {
      "text/plain": [
       "0                    USER Thank Pfizer for Jacinta eh?\n",
       "1    UK Health Secretary Announces U-TURN on MANDAT...\n",
       "2    USER The word hypocrite the only ones can comp...\n",
       "3    USER There's about 4 chapters on aids vaccine ...\n",
       "4    USER USER Hope you’re feeling ok Ben &amp; tak...\n",
       "5    USER USER Why are all double-barrelled nomencl...\n",
       "6    USER The press are so biased towards The Prime...\n",
       "7    USER We have universal availability of effecti...\n",
       "8    USER Seb. \\nVaccines have some effect.\\nMaybe ...\n",
       "9    USER_Ellwood Interesting processing. I don't t...\n",
       "Name: Removed Handlers, dtype: object"
      ]
     },
     "execution_count": 8,
     "metadata": {},
     "output_type": "execute_result"
    }
   ],
   "source": [
    "# Apply above handler remover function and print the new dataframe with the new column\n",
    "\n",
    "replace_handlers(tweets_df)\n",
    "tweets_df['Removed Handlers'].head(10)"
   ]
  },
  {
   "cell_type": "markdown",
   "id": "54033a52",
   "metadata": {},
   "source": [
    "## Publish to CSV:"
   ]
  },
  {
   "cell_type": "code",
   "execution_count": 9,
   "id": "6456ed5a",
   "metadata": {},
   "outputs": [],
   "source": [
    "tweets_df.to_csv('After-Pre-Processing(Temp - Timeframe2).csv', encoding='utf-8', index=False)"
   ]
  }
 ],
 "metadata": {
  "kernelspec": {
   "display_name": "Python 3",
   "language": "python",
   "name": "python3"
  },
  "language_info": {
   "codemirror_mode": {
    "name": "ipython",
    "version": 3
   },
   "file_extension": ".py",
   "mimetype": "text/x-python",
   "name": "python",
   "nbconvert_exporter": "python",
   "pygments_lexer": "ipython3",
   "version": "3.8.8"
  }
 },
 "nbformat": 4,
 "nbformat_minor": 5
}
