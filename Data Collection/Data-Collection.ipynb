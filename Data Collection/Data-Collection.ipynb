{
 "cells": [
  {
   "cell_type": "code",
   "execution_count": 1,
   "id": "deb0c5d7",
   "metadata": {
    "scrolled": true
   },
   "outputs": [
    {
     "name": "stdout",
     "output_type": "stream",
     "text": [
      "Requirement already satisfied: tweepy in /opt/anaconda3/lib/python3.8/site-packages (4.5.0)\n",
      "Requirement already satisfied: requests<3,>=2.27.0 in /opt/anaconda3/lib/python3.8/site-packages (from tweepy) (2.27.1)\n",
      "Requirement already satisfied: requests-oauthlib<2,>=1.0.0 in /opt/anaconda3/lib/python3.8/site-packages (from tweepy) (1.3.1)\n",
      "Requirement already satisfied: charset-normalizer~=2.0.0 in /opt/anaconda3/lib/python3.8/site-packages (from requests<3,>=2.27.0->tweepy) (2.0.12)\n",
      "Requirement already satisfied: certifi>=2017.4.17 in /opt/anaconda3/lib/python3.8/site-packages (from requests<3,>=2.27.0->tweepy) (2020.12.5)\n",
      "Requirement already satisfied: urllib3<1.27,>=1.21.1 in /opt/anaconda3/lib/python3.8/site-packages (from requests<3,>=2.27.0->tweepy) (1.26.4)\n",
      "Requirement already satisfied: idna<4,>=2.5 in /opt/anaconda3/lib/python3.8/site-packages (from requests<3,>=2.27.0->tweepy) (2.10)\n",
      "Requirement already satisfied: oauthlib>=3.0.0 in /opt/anaconda3/lib/python3.8/site-packages (from requests-oauthlib<2,>=1.0.0->tweepy) (3.2.0)\n",
      "Note: you may need to restart the kernel to use updated packages.\n"
     ]
    }
   ],
   "source": [
    "pip install tweepy"
   ]
  },
  {
   "cell_type": "code",
   "execution_count": 1,
   "id": "10449141",
   "metadata": {},
   "outputs": [],
   "source": [
    "import tweepy"
   ]
  },
  {
   "cell_type": "code",
   "execution_count": 2,
   "id": "fa74dca1",
   "metadata": {},
   "outputs": [],
   "source": [
    "API_KEY_SECRET='Lwo7vSEPLt7bJIRm6GdBnRNmVqZQfTWIIcdjeohbYEDufO126Z'\n",
    "API_KEY='C6bseJF8IbUaQquljm9LFQ0zS'\n",
    "\n",
    "#ACCESS_TOKEN='1501845003215294464-CNN2K3NGx1Uk6VLj1KMx4ymrc3x4BZ'\n",
    "#ACCESS_TOKEN_SECRET='kcIV46f13jcuIy7Su6r1khvhOHNrozqmzes6tybdVTOop'\n",
    "\n",
    "MY_BEARER_TOKEN = \"AAAAAAAAAAAAAAAAAAAAAM4waQEAAAAAYnjpEK4pLIw%2BMpJnQHcQfmdej9Q%3DUcV4L4orGz2bHfmgxW03yppXSXb4wqnX9H7meXNbxuCphMgyQg\"\n",
    "\n",
    "client = tweepy.Client(bearer_token=MY_BEARER_TOKEN, consumer_key=API_KEY, \n",
    "                       consumer_secret=API_KEY_SECRET)"
   ]
  },
  {
   "cell_type": "code",
   "execution_count": 14,
   "id": "2d7ed74b",
   "metadata": {},
   "outputs": [],
   "source": [
    "query = \"(vaccine OR vaccines OR corona vaccine OR corona vaccines OR pfizer OR biontech OR moderna OR Pfizer-BioNTech OR Pfizer/BioNTech OR Pfizer BioNTech OR COVAX OR COVAX OR Sinopharm OR Sinovac OR AstraZeneca OR Sputnik V OR Gamaleya) lang:en -is:retweet place_country:GB\"\n",
    "\n",
    "start_time = \"2020-12-01T00:00:00Z\"\n",
    "end_time = \"2021-02-01T00:00:00Z\"\n",
    "\n",
    "results = list()\n",
    "for tweet in tweepy.Paginator(client.search_all_tweets, query=query,\n",
    "                              start_time=start_time,\n",
    "                              end_time=end_time,\n",
    "                              tweet_fields=[\"created_at\", \"text\", \"source\", \"geo\"], \n",
    "                              #user_fields = [\"name\", \"username\", \"location\", \"verified\", \"description\"], \n",
    "                              place_fields=[\"place_type\", \"geo\"], expansions=[\"author_id\", \"geo.place_id\"],\n",
    "                              max_results=500).flatten(limit=100000):\n",
    "    #filehandle.write('%s\\n' % tweet)\n",
    "    results.append([tweet.id, tweet.text])"
   ]
  },
  {
   "cell_type": "code",
   "execution_count": 15,
   "id": "6475bdd2",
   "metadata": {},
   "outputs": [],
   "source": [
    "pd.DataFrame(results).to_csv(\"tweets_final_time1.csv\", index=False)"
   ]
  }
 ],
 "metadata": {
  "kernelspec": {
   "display_name": "Python 3",
   "language": "python",
   "name": "python3"
  },
  "language_info": {
   "codemirror_mode": {
    "name": "ipython",
    "version": 3
   },
   "file_extension": ".py",
   "mimetype": "text/x-python",
   "name": "python",
   "nbconvert_exporter": "python",
   "pygments_lexer": "ipython3",
   "version": "3.8.8"
  }
 },
 "nbformat": 4,
 "nbformat_minor": 5
}
